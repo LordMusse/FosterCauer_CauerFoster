{
 "cells": [
  {
   "cell_type": "code",
   "execution_count": null,
   "metadata": {},
   "outputs": [],
   "source": [
    "import sympy\n",
    "sympy.init_printing()\n",
    "## constants\n",
    "stages = 3"
   ]
  },
  {
   "cell_type": "code",
   "execution_count": null,
   "metadata": {},
   "outputs": [],
   "source": [
    "s = sympy.Symbol('s')\n",
    "x = sympy.Symbol('x')\n",
    "cf1, rf1, cc1, rc1 = sympy.symbols(r\"C_f1, R_f1, C_c1, R_c1\")\n",
    "cf2, rf2, cc2, rc2 = sympy.symbols(r\"C_f2, R_f2, C_c2, R_c2\")\n",
    "cf3, rf3, cc3, rc3 = sympy.symbols(r\"C_f3, R_f3, C_c3, R_c3\")\n",
    "CauerVector = sympy.Matrix([[cc1, rc1],[cc2, rc2],[cc3, rc3]])\n",
    "\n",
    "## enter FosterVector value manually.\n",
    "FosterVector = sympy.ones(stages,2);FosterVector[1,1]=2;FosterVector[2,1]=3\n",
    "\n",
    "ZfVector = sympy.zeros(stages,1)\n",
    "Zfall = 0"
   ]
  },
  {
   "cell_type": "code",
   "execution_count": null,
   "metadata": {},
   "outputs": [],
   "source": [
    "CauerVector"
   ]
  },
  {
   "cell_type": "code",
   "execution_count": null,
   "metadata": {},
   "outputs": [],
   "source": [
    "FosterVector"
   ]
  },
  {
   "cell_type": "code",
   "execution_count": null,
   "metadata": {},
   "outputs": [],
   "source": [
    "for i in range(3):\n",
    "    ZfVector[i] = 1/(s*FosterVector[i,0] + 1/FosterVector[i,1])\n",
    "    Zfall += ZfVector[i]\n",
    "ZfVector, Zfall"
   ]
  },
  {
   "cell_type": "code",
   "execution_count": null,
   "metadata": {},
   "outputs": [],
   "source": [
    "Zfall=Zfall.cancel()"
   ]
  },
  {
   "cell_type": "code",
   "execution_count": null,
   "metadata": {
    "scrolled": true
   },
   "outputs": [],
   "source": [
    "(pf, qf) = sympy.fraction(Zfall)\n",
    "pf = sympy.Poly(pf,s)\n",
    "qf = sympy.Poly(qf,s)"
   ]
  },
  {
   "cell_type": "code",
   "execution_count": null,
   "metadata": {},
   "outputs": [],
   "source": [
    "cc3 = qf.nth(3)/pf.nth(2)"
   ]
  },
  {
   "cell_type": "code",
   "execution_count": null,
   "metadata": {},
   "outputs": [],
   "source": [
    "Yfall = (1/Zfall - cc3*s).cancel()\n",
    "(qf, pf) = sympy.fraction(Yfall)\n",
    "qf = sympy.Poly(qf, s)\n",
    "pf = sympy.Poly(pf, s)"
   ]
  },
  {
   "cell_type": "code",
   "execution_count": null,
   "metadata": {},
   "outputs": [],
   "source": [
    "rc3 = pf.nth(2)/qf.nth(2)"
   ]
  },
  {
   "cell_type": "code",
   "execution_count": null,
   "metadata": {},
   "outputs": [],
   "source": [
    "Zfall = (1/Yfall - rc3).cancel()\n",
    "(pf, qf) = sympy.fraction(Zfall)\n",
    "qf = sympy.Poly(qf, s)\n",
    "pf = sympy.Poly(pf, s)"
   ]
  },
  {
   "cell_type": "code",
   "execution_count": null,
   "metadata": {},
   "outputs": [],
   "source": [
    "cc2 = qf.nth(2)/pf.nth(1)"
   ]
  },
  {
   "cell_type": "code",
   "execution_count": null,
   "metadata": {},
   "outputs": [],
   "source": [
    "Yfall = (1/Zfall - cc2 * s).cancel()\n",
    "(qf, pf) = sympy.fraction(Yfall)\n",
    "qf = sympy.Poly(qf, s)\n",
    "pf = sympy.Poly(pf, s)"
   ]
  },
  {
   "cell_type": "code",
   "execution_count": null,
   "metadata": {},
   "outputs": [],
   "source": [
    "rc2 = pf.nth(1)/qf.nth(1)"
   ]
  },
  {
   "cell_type": "code",
   "execution_count": null,
   "metadata": {},
   "outputs": [],
   "source": [
    "Zfall = (1/Yfall  - rc2).cancel()\n",
    "(pf, qf) = sympy.fraction(Zfall)\n",
    "qf = sympy.Poly(qf, s)\n",
    "pf = sympy.Poly(pf, s)"
   ]
  },
  {
   "cell_type": "code",
   "execution_count": null,
   "metadata": {},
   "outputs": [],
   "source": [
    "cc1 = qf.nth(1)/pf.nth(0)"
   ]
  },
  {
   "cell_type": "code",
   "execution_count": null,
   "metadata": {},
   "outputs": [],
   "source": [
    "Yfall = (1/Zfall - cc1 * s).cancel()\n",
    "(qf, pf) = sympy.fraction(Yfall)\n",
    "qf = sympy.Poly(qf, s)\n",
    "pf = sympy.Poly(pf, s)"
   ]
  },
  {
   "cell_type": "code",
   "execution_count": null,
   "metadata": {},
   "outputs": [],
   "source": [
    "rc1 = pf.nth(0)/qf.nth(0)"
   ]
  },
  {
   "cell_type": "code",
   "execution_count": null,
   "metadata": {},
   "outputs": [],
   "source": [
    "rc3+rc2+rc1"
   ]
  },
  {
   "cell_type": "code",
   "execution_count": null,
   "metadata": {},
   "outputs": [],
   "source": []
  }
 ],
 "metadata": {
  "kernelspec": {
   "display_name": "Python 3",
   "language": "python",
   "name": "python3"
  },
  "language_info": {
   "codemirror_mode": {
    "name": "ipython",
    "version": 3
   },
   "file_extension": ".py",
   "mimetype": "text/x-python",
   "name": "python",
   "nbconvert_exporter": "python",
   "pygments_lexer": "ipython3",
   "version": "3.7.5"
  }
 },
 "nbformat": 4,
 "nbformat_minor": 4
}
