{
 "cells": [
  {
   "cell_type": "code",
   "execution_count": null,
   "metadata": {},
   "outputs": [],
   "source": [
    "import sympy\n",
    "sympy.init_printing()"
   ]
  },
  {
   "cell_type": "code",
   "execution_count": null,
   "metadata": {},
   "outputs": [],
   "source": [
    "s = sympy.Symbol('s')\n",
    "x = sympy.Symbol('x')\n",
    "cf1, rf1, cc1, rc1 = sympy.symbols(r\"C_f1, R_f1, C_c1, R_c1\")\n",
    "cf2, rf2, cc2, rc2 = sympy.symbols(r\"C_f2, R_f2, C_c2, R_c2\")\n",
    "cf3, rf3, cc3, rc3 = sympy.symbols(r\"C_f3, R_f3, C_c3, R_c3\")\n"
   ]
  },
  {
   "cell_type": "markdown",
   "metadata": {},
   "source": [
    "Foster matrix\n",
    "\n",
    "_cv2, _cv3 means 2x1 column vector, and 3x1 column vector respectively."
   ]
  },
  {
   "cell_type": "code",
   "execution_count": null,
   "metadata": {},
   "outputs": [],
   "source": [
    "af1_0_cv2 = sympy.Matrix([rf1,0])\n",
    "af1_1_cv2 = sympy.Matrix([0,rf1])\n",
    "bf1_cv2 = sympy.Matrix([cf1*rf1,1])\n",
    "bf1_0_cv3 = sympy.zeros(3,1); bf1_0_cv3[0:2,0] = bf1_cv2\n",
    "bf1_1_cv3 = sympy.zeros(3,1); bf1_1_cv3[1:3,0] = bf1_cv2"
   ]
  },
  {
   "cell_type": "code",
   "execution_count": null,
   "metadata": {},
   "outputs": [],
   "source": [
    "af1_0_cv2, af1_1_cv2, bf1_cv2, bf1_0_cv3, bf1_1_cv3"
   ]
  },
  {
   "cell_type": "code",
   "execution_count": null,
   "metadata": {},
   "outputs": [],
   "source": [
    "af2_cv2 = cf2*rf2*af1_0_cv2 + af1_1_cv2 + rf2 * bf1_cv2\n",
    "bf2_cv3 = cf2 * rf2 * bf1_0_cv3 + bf1_1_cv3"
   ]
  },
  {
   "cell_type": "code",
   "execution_count": null,
   "metadata": {},
   "outputs": [],
   "source": [
    "af2_cv2,bf2_cv3"
   ]
  },
  {
   "cell_type": "code",
   "execution_count": null,
   "metadata": {},
   "outputs": [],
   "source": [
    "af2_0_cv3 = sympy.zeros(3,1); af2_0_cv3[0:2,0] = af2_cv2\n",
    "af2_1_cv3 = sympy.zeros(3,1); af2_1_cv3[1:3,0] = af2_cv2\n",
    "bf2_0_cv4 = sympy.zeros(4,1); bf2_0_cv4[0:3,0] = bf2_cv3\n",
    "bf2_1_cv4 = sympy.zeros(4,1); bf2_1_cv4[1:4,0] = bf2_cv3"
   ]
  },
  {
   "cell_type": "code",
   "execution_count": null,
   "metadata": {},
   "outputs": [],
   "source": [
    "af2_0_cv3, af2_1_cv3, bf2_0_cv4, bf2_1_cv4"
   ]
  },
  {
   "cell_type": "code",
   "execution_count": null,
   "metadata": {},
   "outputs": [],
   "source": [
    "af3_cv3 = cf3 * rf3 * af2_0_cv3 + af2_1_cv3 + rf3 * bf2_cv3\n",
    "bf3_cv4 = cf3 * rf3 * bf2_0_cv4 + bf2_1_cv4"
   ]
  },
  {
   "cell_type": "code",
   "execution_count": null,
   "metadata": {},
   "outputs": [],
   "source": [
    "af3_cv3, bf3_cv4"
   ]
  },
  {
   "cell_type": "code",
   "execution_count": null,
   "metadata": {},
   "outputs": [],
   "source": [
    "svector3 = sympy.Matrix([s**3, s**2, s, 1])\n",
    "svector2 = sympy.Matrix([s**2, s, 1])\n",
    "svector2, svector3"
   ]
  },
  {
   "cell_type": "code",
   "execution_count": null,
   "metadata": {
    "scrolled": true
   },
   "outputs": [],
   "source": [
    "pf3 = sympy.Poly(sympy.transpose(af3_cv3).dot(svector2),s)\n",
    "pf3"
   ]
  },
  {
   "cell_type": "code",
   "execution_count": null,
   "metadata": {
    "scrolled": true
   },
   "outputs": [],
   "source": [
    "qf3 = sympy.Poly(sympy.transpose(bf3_cv4).dot(svector3),s)\n",
    "qf3"
   ]
  },
  {
   "cell_type": "code",
   "execution_count": null,
   "metadata": {
    "scrolled": true
   },
   "outputs": [],
   "source": [
    "Zf3 = pf3/qf3\n",
    "Zf3"
   ]
  },
  {
   "cell_type": "code",
   "execution_count": null,
   "metadata": {
    "scrolled": true
   },
   "outputs": [],
   "source": [
    "Yf3 = 1/Zf3\n",
    "Yf3"
   ]
  },
  {
   "cell_type": "code",
   "execution_count": null,
   "metadata": {},
   "outputs": [],
   "source": [
    "cc3 = bf3_cv4[0]/af3_cv3[0]\n",
    "cc3"
   ]
  },
  {
   "cell_type": "code",
   "execution_count": null,
   "metadata": {},
   "outputs": [],
   "source": [
    "Yf3Aster = (Yf3 - cc3*s).cancel()"
   ]
  },
  {
   "cell_type": "code",
   "execution_count": null,
   "metadata": {},
   "outputs": [],
   "source": [
    "(qf3_1, pf3_1) = sympy.fraction(Yf3Aster)\n",
    "qf3_1 = sympy.Poly(qf3_1, s)\n",
    "pf3_1 = sympy.Poly(pf3_1, s)"
   ]
  },
  {
   "cell_type": "markdown",
   "metadata": {},
   "source": [
    "pf3_1.coeff_monomial(s)\n",
    "\n",
    "pf3_1.nth(0)"
   ]
  },
  {
   "cell_type": "code",
   "execution_count": null,
   "metadata": {},
   "outputs": [],
   "source": [
    "rc3 = pf3_1.nth(2)/qf3_1.nth(2)\n",
    "rc3"
   ]
  },
  {
   "cell_type": "code",
   "execution_count": null,
   "metadata": {},
   "outputs": [],
   "source": [
    "Zf3Aster_2 = (1/Yf3Aster  - rc3).cancel()"
   ]
  },
  {
   "cell_type": "code",
   "execution_count": null,
   "metadata": {},
   "outputs": [],
   "source": [
    "(pf3_2, qf3_2) = sympy.fraction(Zf3Aster_2)\n",
    "qf3_2 = sympy.Poly(qf3_2, s)\n",
    "pf3_2 = sympy.Poly(pf3_2, s)"
   ]
  },
  {
   "cell_type": "code",
   "execution_count": null,
   "metadata": {},
   "outputs": [],
   "source": [
    "cc2 = qf3_2.nth(2)/pf3_2.nth(1)\n",
    "cc2"
   ]
  },
  {
   "cell_type": "code",
   "execution_count": null,
   "metadata": {},
   "outputs": [],
   "source": [
    "Yf3Aster_3 = (1/Zf3Aster_2 - cc2 * s).cancel()"
   ]
  },
  {
   "cell_type": "code",
   "execution_count": null,
   "metadata": {},
   "outputs": [],
   "source": [
    "(qf3_3, pf3_3) = sympy.fraction(Yf3Aster_3)\n",
    "qf3_3 = sympy.Poly(qf3_3, s)\n",
    "pf3_3 = sympy.Poly(pf3_3, s)"
   ]
  },
  {
   "cell_type": "code",
   "execution_count": null,
   "metadata": {},
   "outputs": [],
   "source": [
    "rc2 = pf3_3.nth(1)/qf3_3.nth(1)\n",
    "rc2"
   ]
  },
  {
   "cell_type": "code",
   "execution_count": null,
   "metadata": {},
   "outputs": [],
   "source": [
    "Zf3Aster_3 = (1/Yf3Aster_3  - rc2).cancel()"
   ]
  },
  {
   "cell_type": "code",
   "execution_count": null,
   "metadata": {},
   "outputs": [],
   "source": [
    "(pf3_4, qf3_4) = sympy.fraction(Zf3Aster_3)\n",
    "qf3_4 = sympy.Poly(qf3_4, s)\n",
    "pf3_4 = sympy.Poly(pf3_4, s)"
   ]
  },
  {
   "cell_type": "code",
   "execution_count": null,
   "metadata": {},
   "outputs": [],
   "source": [
    "cc1 = qf3_4.nth(1)/pf3_4.nth(0)\n",
    "cc1"
   ]
  },
  {
   "cell_type": "code",
   "execution_count": null,
   "metadata": {},
   "outputs": [],
   "source": [
    "Yf3Aster_4 = (1/Zf3Aster_3 - cc1 * s).cancel()\n",
    "(qf3_5, pf3_5) = sympy.fraction(Yf3Aster_4)\n",
    "qf3_5 = sympy.Poly(qf3_5, s)\n",
    "pf3_5 = sympy.Poly(pf3_5, s)"
   ]
  },
  {
   "cell_type": "code",
   "execution_count": null,
   "metadata": {},
   "outputs": [],
   "source": [
    "rc1 = pf3_5.nth(0)/qf3_5.nth(0)\n",
    "rc1"
   ]
  },
  {
   "cell_type": "code",
   "execution_count": null,
   "metadata": {},
   "outputs": [],
   "source": [
    "(rc3+rc2+rc1).cancel()"
   ]
  },
  {
   "cell_type": "code",
   "execution_count": null,
   "metadata": {},
   "outputs": [],
   "source": [
    "float(rc1.subs({rf1: 1, rf2: 2, rf3: 3, cf1: 1, cf2: 1, cf3: 1}))"
   ]
  },
  {
   "cell_type": "code",
   "execution_count": null,
   "metadata": {},
   "outputs": [],
   "source": [
    "float(rc2.subs({rf1: 1, rf2: 2, rf3: 3, cf1: 1, cf2: 1, cf3: 1}))"
   ]
  },
  {
   "cell_type": "code",
   "execution_count": null,
   "metadata": {},
   "outputs": [],
   "source": [
    "float(rc3.subs({rf1: 1, rf2: 2, rf3: 3, cf1: 1, cf2: 1, cf3: 1}))"
   ]
  },
  {
   "cell_type": "code",
   "execution_count": null,
   "metadata": {},
   "outputs": [],
   "source": [
    "float(cc1.subs({rf1: 1, rf2: 2, rf3: 3, cf1: 1, cf2: 1, cf3: 1}))"
   ]
  },
  {
   "cell_type": "code",
   "execution_count": null,
   "metadata": {},
   "outputs": [],
   "source": [
    "float(cc2.subs({rf1: 1, rf2: 2, rf3: 3, cf1: 1, cf2: 1, cf3: 1}))"
   ]
  },
  {
   "cell_type": "code",
   "execution_count": null,
   "metadata": {},
   "outputs": [],
   "source": [
    "float(cc3.subs({rf1: 1, rf2: 2, rf3: 3, cf1: 1, cf2: 1, cf3: 1}))"
   ]
  },
  {
   "cell_type": "code",
   "execution_count": null,
   "metadata": {},
   "outputs": [],
   "source": []
  }
 ],
 "metadata": {
  "kernelspec": {
   "display_name": "Python 3",
   "language": "python",
   "name": "python3"
  },
  "language_info": {
   "codemirror_mode": {
    "name": "ipython",
    "version": 3
   },
   "file_extension": ".py",
   "mimetype": "text/x-python",
   "name": "python",
   "nbconvert_exporter": "python",
   "pygments_lexer": "ipython3",
   "version": "3.7.5"
  }
 },
 "nbformat": 4,
 "nbformat_minor": 2
}
